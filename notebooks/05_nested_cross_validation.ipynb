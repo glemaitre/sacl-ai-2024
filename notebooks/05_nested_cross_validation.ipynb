{
 "cells": [
  {
   "cell_type": "markdown",
   "id": "56d818c0",
   "metadata": {},
   "source": [
    "\n",
    "# Hyperparameter tuning with nested cross-validation\n",
    "\n",
    "In this notebook, we will illustrate how to perform hyperparameter tuning\n",
    "using nested cross-validation.\n",
    "\n",
    "We start be defining the predictive model that we created in the previous\n",
    "notebook."
   ]
  },
  {
   "cell_type": "code",
   "execution_count": null,
   "id": "02018672",
   "metadata": {},
   "outputs": [],
   "source": [
    "import pandas as pd\n",
    "\n",
    "df = pd.read_csv(\"../datasets/penguins.csv\")\n",
    "df"
   ]
  },
  {
   "cell_type": "code",
   "execution_count": null,
   "id": "9af5fcb0",
   "metadata": {},
   "outputs": [],
   "source": [
    "feature_names = [\n",
    "    \"Region\",\n",
    "    \"Island\",\n",
    "    \"Culmen Depth (mm)\",\n",
    "    \"Flipper Length (mm)\",\n",
    "    \"Body Mass (g)\",\n",
    "    \"Sex\",\n",
    "]\n",
    "target_name = \"Species\"\n",
    "X = df[feature_names]\n",
    "y = df[target_name]\n",
    "\n",
    "categorical_columns = X.select_dtypes(include=\"object\").columns\n",
    "X[categorical_columns] = X[categorical_columns].astype(\"category\")"
   ]
  },
  {
   "cell_type": "code",
   "execution_count": null,
   "id": "4a33df79",
   "metadata": {},
   "outputs": [],
   "source": [
    "from skrub import tabular_learner\n",
    "from sklearn.linear_model import LogisticRegression\n",
    "\n",
    "logistic_regression = tabular_learner(LogisticRegression())\n",
    "logistic_regression"
   ]
  },
  {
   "cell_type": "markdown",
   "id": "c4943ffb",
   "metadata": {},
   "source": [
    "\n",
    "In the past, we saw how to evaluate this model with cross-validation."
   ]
  },
  {
   "cell_type": "code",
   "execution_count": null,
   "id": "a1760af6",
   "metadata": {},
   "outputs": [],
   "source": [
    "import pandas as pd\n",
    "from sklearn.model_selection import cross_validate\n",
    "\n",
    "cv_results = cross_validate(logistic_regression, X, y, cv=5, return_train_score=True)\n",
    "cv_results = pd.DataFrame(cv_results)\n",
    "cv_results[[\"train_score\", \"test_score\"]]"
   ]
  },
  {
   "cell_type": "markdown",
   "id": "440f04a0",
   "metadata": {},
   "source": [
    "\n",
    "However, this machine learning pipeline has some hyperparameters that are set to\n",
    "default values and not necessarily optimal for our problem."
   ]
  },
  {
   "cell_type": "code",
   "execution_count": null,
   "id": "dabd4c4c",
   "metadata": {},
   "outputs": [],
   "source": [
    "logistic_regression.get_params()"
   ]
  },
  {
   "cell_type": "markdown",
   "id": "1cb57fdb",
   "metadata": {},
   "source": [
    "\n",
    "We can tune these hyperparameters using a search strategy."
   ]
  },
  {
   "cell_type": "code",
   "execution_count": null,
   "id": "2eb434cf",
   "metadata": {},
   "outputs": [],
   "source": [
    "from scipy.stats import loguniform\n",
    "from sklearn.model_selection import RandomizedSearchCV\n",
    "\n",
    "param_distributions = {\n",
    "    \"simpleimputer__strategy\": [\"mean\", \"median\", \"most_frequent\"],\n",
    "    \"logisticregression__C\": loguniform(1e-3, 1e3),\n",
    "}\n",
    "tuned_model = RandomizedSearchCV(\n",
    "    logistic_regression,\n",
    "    param_distributions=param_distributions,\n",
    "    n_iter=10,\n",
    "    cv=5,\n",
    "    random_state=0,\n",
    ")\n",
    "tuned_model"
   ]
  },
  {
   "cell_type": "code",
   "execution_count": null,
   "id": "33dd16a9",
   "metadata": {},
   "outputs": [],
   "source": [
    "# set `return_estimator=True` to access the best model found during the search\n",
    "cv_results = cross_validate(tuned_model, X, y, cv=5, return_estimator=True)\n",
    "cv_results = pd.DataFrame(cv_results)\n",
    "cv_results"
   ]
  },
  {
   "cell_type": "markdown",
   "id": "ef89e982",
   "metadata": {},
   "source": [
    "\n",
    "We can check the best estimator that have been for each fold."
   ]
  },
  {
   "cell_type": "code",
   "execution_count": null,
   "id": "83848e6b",
   "metadata": {},
   "outputs": [],
   "source": [
    "for estimator in cv_results[\"estimator\"]:\n",
    "    print(estimator.best_params_)"
   ]
  },
  {
   "cell_type": "markdown",
   "id": "4b7cf77a",
   "metadata": {},
   "source": [
    "\n",
    "However, the previous approach is not the best way to tune hyperparameters.\n",
    "We used the default score that is the accuracy here. However, if we have a\n",
    "probabilistic model, we should instead optimized a proper scoring function instead\n",
    "of a threshold-based metric. So we can optimize the log loss instead of the accuracy."
   ]
  },
  {
   "cell_type": "code",
   "execution_count": null,
   "id": "76645bf4",
   "metadata": {},
   "outputs": [],
   "source": [
    "cv_results = cross_validate(\n",
    "    tuned_model, X, y, cv=5, scoring=\"neg_log_loss\", return_estimator=True\n",
    ")\n",
    "cv_results = pd.DataFrame(cv_results)\n",
    "cv_results"
   ]
  },
  {
   "cell_type": "code",
   "execution_count": null,
   "id": "31029812",
   "metadata": {},
   "outputs": [],
   "source": [
    "for estimator in cv_results[\"estimator\"]:\n",
    "    print(estimator.best_params_)"
   ]
  },
  {
   "cell_type": "code",
   "execution_count": null,
   "id": "64d965c7",
   "metadata": {},
   "outputs": [],
   "source": []
  }
 ],
 "metadata": {
  "jupytext": {
   "cell_metadata_filter": "-all",
   "main_language": "python",
   "notebook_metadata_filter": "-all"
  }
 },
 "nbformat": 4,
 "nbformat_minor": 5
}
